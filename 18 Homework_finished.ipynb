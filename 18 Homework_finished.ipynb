{
 "cells": [
  {
   "cell_type": "code",
   "execution_count": null,
   "id": "1fbd75ab",
   "metadata": {},
   "outputs": [],
   "source": [
    "'''\n",
    "在速度較慢的時候，可以先從哪邊開始檢查？\n",
    "如果是讀取資料，可以從資料讀取格式；運算時可從資料格式和運算函數是否使用內建函數與向量資料進行運算\n",
    "資料過大時應採取什麼方式讓記憶體占用量下降？\n",
    "改讀pkl檔，將資料型態進行降級\n",
    "'''"
   ]
  }
 ],
 "metadata": {
  "kernelspec": {
   "display_name": "Python 3",
   "language": "python",
   "name": "python3"
  },
  "language_info": {
   "codemirror_mode": {
    "name": "ipython",
    "version": 3
   },
   "file_extension": ".py",
   "mimetype": "text/x-python",
   "name": "python",
   "nbconvert_exporter": "python",
   "pygments_lexer": "ipython3",
   "version": "3.8.8"
  }
 },
 "nbformat": 4,
 "nbformat_minor": 5
}
